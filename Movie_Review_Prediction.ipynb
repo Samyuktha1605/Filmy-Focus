{
  "nbformat": 4,
  "nbformat_minor": 0,
  "metadata": {
    "colab": {
      "provenance": []
    },
    "kernelspec": {
      "name": "python3",
      "display_name": "Python 3"
    },
    "language_info": {
      "name": "python"
    }
  },
  "cells": [
    {
      "cell_type": "code",
      "execution_count": null,
      "metadata": {
        "id": "SK8LCOBNU-Hj"
      },
      "outputs": [],
      "source": [
        "import numpy as np\n",
        "import pandas as pd\n",
        "import matplotlib.pyplot as plt\n",
        "import seaborn as sns"
      ]
    },
    {
      "cell_type": "code",
      "source": [
        "df=pd.read_csv(\"/content/drive/MyDrive/Train.csv\")"
      ],
      "metadata": {
        "id": "U96_rVOxGqBU"
      },
      "execution_count": null,
      "outputs": []
    },
    {
      "cell_type": "code",
      "source": [
        "df.shape"
      ],
      "metadata": {
        "colab": {
          "base_uri": "https://localhost:8080/"
        },
        "id": "nSyf2E54HiTR",
        "outputId": "83ce34c1-feab-4c45-bc8f-c584d76f8ac5"
      },
      "execution_count": null,
      "outputs": [
        {
          "output_type": "execute_result",
          "data": {
            "text/plain": [
              "(40000, 2)"
            ]
          },
          "metadata": {},
          "execution_count": 15
        }
      ]
    },
    {
      "cell_type": "code",
      "source": [
        "df.head()"
      ],
      "metadata": {
        "colab": {
          "base_uri": "https://localhost:8080/",
          "height": 206
        },
        "id": "KT8_We5IICU4",
        "outputId": "c4e2a9b1-1dc2-4561-87ca-a9e947dad321"
      },
      "execution_count": null,
      "outputs": [
        {
          "output_type": "execute_result",
          "data": {
            "text/plain": [
              "                                              review label\n",
              "0  mature intelligent and highly charged melodram...   pos\n",
              "1  http://video.google.com/videoplay?docid=211772...   pos\n",
              "2  Title: Opera (1987) Director: Dario Argento Ca...   pos\n",
              "3  I think a lot of people just wrote this off as...   pos\n",
              "4  This is a story of two dogs and a cat looking ...   pos"
            ],
            "text/html": [
              "\n",
              "  <div id=\"df-ebd5dac9-ee37-4e4c-a20c-0d86bd29fb8e\">\n",
              "    <div class=\"colab-df-container\">\n",
              "      <div>\n",
              "<style scoped>\n",
              "    .dataframe tbody tr th:only-of-type {\n",
              "        vertical-align: middle;\n",
              "    }\n",
              "\n",
              "    .dataframe tbody tr th {\n",
              "        vertical-align: top;\n",
              "    }\n",
              "\n",
              "    .dataframe thead th {\n",
              "        text-align: right;\n",
              "    }\n",
              "</style>\n",
              "<table border=\"1\" class=\"dataframe\">\n",
              "  <thead>\n",
              "    <tr style=\"text-align: right;\">\n",
              "      <th></th>\n",
              "      <th>review</th>\n",
              "      <th>label</th>\n",
              "    </tr>\n",
              "  </thead>\n",
              "  <tbody>\n",
              "    <tr>\n",
              "      <th>0</th>\n",
              "      <td>mature intelligent and highly charged melodram...</td>\n",
              "      <td>pos</td>\n",
              "    </tr>\n",
              "    <tr>\n",
              "      <th>1</th>\n",
              "      <td>http://video.google.com/videoplay?docid=211772...</td>\n",
              "      <td>pos</td>\n",
              "    </tr>\n",
              "    <tr>\n",
              "      <th>2</th>\n",
              "      <td>Title: Opera (1987) Director: Dario Argento Ca...</td>\n",
              "      <td>pos</td>\n",
              "    </tr>\n",
              "    <tr>\n",
              "      <th>3</th>\n",
              "      <td>I think a lot of people just wrote this off as...</td>\n",
              "      <td>pos</td>\n",
              "    </tr>\n",
              "    <tr>\n",
              "      <th>4</th>\n",
              "      <td>This is a story of two dogs and a cat looking ...</td>\n",
              "      <td>pos</td>\n",
              "    </tr>\n",
              "  </tbody>\n",
              "</table>\n",
              "</div>\n",
              "      <button class=\"colab-df-convert\" onclick=\"convertToInteractive('df-ebd5dac9-ee37-4e4c-a20c-0d86bd29fb8e')\"\n",
              "              title=\"Convert this dataframe to an interactive table.\"\n",
              "              style=\"display:none;\">\n",
              "        \n",
              "  <svg xmlns=\"http://www.w3.org/2000/svg\" height=\"24px\"viewBox=\"0 0 24 24\"\n",
              "       width=\"24px\">\n",
              "    <path d=\"M0 0h24v24H0V0z\" fill=\"none\"/>\n",
              "    <path d=\"M18.56 5.44l.94 2.06.94-2.06 2.06-.94-2.06-.94-.94-2.06-.94 2.06-2.06.94zm-11 1L8.5 8.5l.94-2.06 2.06-.94-2.06-.94L8.5 2.5l-.94 2.06-2.06.94zm10 10l.94 2.06.94-2.06 2.06-.94-2.06-.94-.94-2.06-.94 2.06-2.06.94z\"/><path d=\"M17.41 7.96l-1.37-1.37c-.4-.4-.92-.59-1.43-.59-.52 0-1.04.2-1.43.59L10.3 9.45l-7.72 7.72c-.78.78-.78 2.05 0 2.83L4 21.41c.39.39.9.59 1.41.59.51 0 1.02-.2 1.41-.59l7.78-7.78 2.81-2.81c.8-.78.8-2.07 0-2.86zM5.41 20L4 18.59l7.72-7.72 1.47 1.35L5.41 20z\"/>\n",
              "  </svg>\n",
              "      </button>\n",
              "      \n",
              "  <style>\n",
              "    .colab-df-container {\n",
              "      display:flex;\n",
              "      flex-wrap:wrap;\n",
              "      gap: 12px;\n",
              "    }\n",
              "\n",
              "    .colab-df-convert {\n",
              "      background-color: #E8F0FE;\n",
              "      border: none;\n",
              "      border-radius: 50%;\n",
              "      cursor: pointer;\n",
              "      display: none;\n",
              "      fill: #1967D2;\n",
              "      height: 32px;\n",
              "      padding: 0 0 0 0;\n",
              "      width: 32px;\n",
              "    }\n",
              "\n",
              "    .colab-df-convert:hover {\n",
              "      background-color: #E2EBFA;\n",
              "      box-shadow: 0px 1px 2px rgba(60, 64, 67, 0.3), 0px 1px 3px 1px rgba(60, 64, 67, 0.15);\n",
              "      fill: #174EA6;\n",
              "    }\n",
              "\n",
              "    [theme=dark] .colab-df-convert {\n",
              "      background-color: #3B4455;\n",
              "      fill: #D2E3FC;\n",
              "    }\n",
              "\n",
              "    [theme=dark] .colab-df-convert:hover {\n",
              "      background-color: #434B5C;\n",
              "      box-shadow: 0px 1px 3px 1px rgba(0, 0, 0, 0.15);\n",
              "      filter: drop-shadow(0px 1px 2px rgba(0, 0, 0, 0.3));\n",
              "      fill: #FFFFFF;\n",
              "    }\n",
              "  </style>\n",
              "\n",
              "      <script>\n",
              "        const buttonEl =\n",
              "          document.querySelector('#df-ebd5dac9-ee37-4e4c-a20c-0d86bd29fb8e button.colab-df-convert');\n",
              "        buttonEl.style.display =\n",
              "          google.colab.kernel.accessAllowed ? 'block' : 'none';\n",
              "\n",
              "        async function convertToInteractive(key) {\n",
              "          const element = document.querySelector('#df-ebd5dac9-ee37-4e4c-a20c-0d86bd29fb8e');\n",
              "          const dataTable =\n",
              "            await google.colab.kernel.invokeFunction('convertToInteractive',\n",
              "                                                     [key], {});\n",
              "          if (!dataTable) return;\n",
              "\n",
              "          const docLinkHtml = 'Like what you see? Visit the ' +\n",
              "            '<a target=\"_blank\" href=https://colab.research.google.com/notebooks/data_table.ipynb>data table notebook</a>'\n",
              "            + ' to learn more about interactive tables.';\n",
              "          element.innerHTML = '';\n",
              "          dataTable['output_type'] = 'display_data';\n",
              "          await google.colab.output.renderOutput(dataTable, element);\n",
              "          const docLink = document.createElement('div');\n",
              "          docLink.innerHTML = docLinkHtml;\n",
              "          element.appendChild(docLink);\n",
              "        }\n",
              "      </script>\n",
              "    </div>\n",
              "  </div>\n",
              "  "
            ]
          },
          "metadata": {},
          "execution_count": 16
        }
      ]
    },
    {
      "cell_type": "code",
      "source": [
        "df['label'].value_counts()"
      ],
      "metadata": {
        "colab": {
          "base_uri": "https://localhost:8080/"
        },
        "id": "3gLWnZi_ID7P",
        "outputId": "7f18b14c-4264-4e2e-f9bc-aca211d0c47f"
      },
      "execution_count": null,
      "outputs": [
        {
          "output_type": "execute_result",
          "data": {
            "text/plain": [
              "pos    20011\n",
              "neg    19989\n",
              "Name: label, dtype: int64"
            ]
          },
          "metadata": {},
          "execution_count": 17
        }
      ]
    },
    {
      "cell_type": "code",
      "source": [
        "df.isnull().sum()"
      ],
      "metadata": {
        "colab": {
          "base_uri": "https://localhost:8080/"
        },
        "id": "RpcJ1bAsIItJ",
        "outputId": "62dccd7a-a004-4ed7-d1e4-2ffd920dec5e"
      },
      "execution_count": null,
      "outputs": [
        {
          "output_type": "execute_result",
          "data": {
            "text/plain": [
              "review    0\n",
              "label     0\n",
              "dtype: int64"
            ]
          },
          "metadata": {},
          "execution_count": 18
        }
      ]
    },
    {
      "cell_type": "code",
      "source": [
        "y=df['label']"
      ],
      "metadata": {
        "id": "BQ-kZc_LIMD1"
      },
      "execution_count": null,
      "outputs": []
    },
    {
      "cell_type": "code",
      "source": [
        "from sklearn.preprocessing import LabelEncoder\n",
        "le=LabelEncoder()\n",
        "y=le.fit_transform(y)"
      ],
      "metadata": {
        "id": "Uu-mJ_DuI6n7"
      },
      "execution_count": null,
      "outputs": []
    },
    {
      "cell_type": "code",
      "source": [
        "y[:100]"
      ],
      "metadata": {
        "colab": {
          "base_uri": "https://localhost:8080/"
        },
        "id": "n-mkxtObJHUK",
        "outputId": "a4b72164-1bd3-4bbe-9271-8bfb5d0b1293"
      },
      "execution_count": null,
      "outputs": [
        {
          "output_type": "execute_result",
          "data": {
            "text/plain": [
              "array([1, 1, 1, 1, 1, 1, 0, 0, 1, 1, 0, 1, 1, 0, 1, 1, 1, 0, 1, 1, 0, 1,\n",
              "       1, 0, 1, 1, 1, 0, 1, 1, 0, 1, 0, 1, 0, 0, 0, 0, 0, 0, 1, 1, 0, 1,\n",
              "       0, 1, 0, 0, 0, 1, 0, 0, 0, 1, 0, 1, 1, 0, 0, 1, 0, 1, 0, 0, 0, 1,\n",
              "       1, 0, 1, 1, 1, 0, 0, 1, 1, 1, 1, 1, 1, 1, 0, 0, 0, 0, 0, 1, 0, 0,\n",
              "       1, 1, 1, 1, 0, 1, 0, 1, 1, 0, 0, 0])"
            ]
          },
          "metadata": {},
          "execution_count": 21
        }
      ]
    },
    {
      "cell_type": "code",
      "source": [
        "df['label']=y"
      ],
      "metadata": {
        "id": "BOpw_enf-yvT"
      },
      "execution_count": null,
      "outputs": []
    },
    {
      "cell_type": "code",
      "source": [
        "df.head()"
      ],
      "metadata": {
        "colab": {
          "base_uri": "https://localhost:8080/",
          "height": 206
        },
        "id": "mNATZEot_H3K",
        "outputId": "6e6c0ebf-74c6-4de3-8149-d511609ed1af"
      },
      "execution_count": null,
      "outputs": [
        {
          "output_type": "execute_result",
          "data": {
            "text/plain": [
              "                                              review  label\n",
              "0  mature intelligent and highly charged melodram...      1\n",
              "1  http://video.google.com/videoplay?docid=211772...      1\n",
              "2  Title: Opera (1987) Director: Dario Argento Ca...      1\n",
              "3  I think a lot of people just wrote this off as...      1\n",
              "4  This is a story of two dogs and a cat looking ...      1"
            ],
            "text/html": [
              "\n",
              "  <div id=\"df-e41d8ff1-d9cb-4e5d-be1a-222bec044860\">\n",
              "    <div class=\"colab-df-container\">\n",
              "      <div>\n",
              "<style scoped>\n",
              "    .dataframe tbody tr th:only-of-type {\n",
              "        vertical-align: middle;\n",
              "    }\n",
              "\n",
              "    .dataframe tbody tr th {\n",
              "        vertical-align: top;\n",
              "    }\n",
              "\n",
              "    .dataframe thead th {\n",
              "        text-align: right;\n",
              "    }\n",
              "</style>\n",
              "<table border=\"1\" class=\"dataframe\">\n",
              "  <thead>\n",
              "    <tr style=\"text-align: right;\">\n",
              "      <th></th>\n",
              "      <th>review</th>\n",
              "      <th>label</th>\n",
              "    </tr>\n",
              "  </thead>\n",
              "  <tbody>\n",
              "    <tr>\n",
              "      <th>0</th>\n",
              "      <td>mature intelligent and highly charged melodram...</td>\n",
              "      <td>1</td>\n",
              "    </tr>\n",
              "    <tr>\n",
              "      <th>1</th>\n",
              "      <td>http://video.google.com/videoplay?docid=211772...</td>\n",
              "      <td>1</td>\n",
              "    </tr>\n",
              "    <tr>\n",
              "      <th>2</th>\n",
              "      <td>Title: Opera (1987) Director: Dario Argento Ca...</td>\n",
              "      <td>1</td>\n",
              "    </tr>\n",
              "    <tr>\n",
              "      <th>3</th>\n",
              "      <td>I think a lot of people just wrote this off as...</td>\n",
              "      <td>1</td>\n",
              "    </tr>\n",
              "    <tr>\n",
              "      <th>4</th>\n",
              "      <td>This is a story of two dogs and a cat looking ...</td>\n",
              "      <td>1</td>\n",
              "    </tr>\n",
              "  </tbody>\n",
              "</table>\n",
              "</div>\n",
              "      <button class=\"colab-df-convert\" onclick=\"convertToInteractive('df-e41d8ff1-d9cb-4e5d-be1a-222bec044860')\"\n",
              "              title=\"Convert this dataframe to an interactive table.\"\n",
              "              style=\"display:none;\">\n",
              "        \n",
              "  <svg xmlns=\"http://www.w3.org/2000/svg\" height=\"24px\"viewBox=\"0 0 24 24\"\n",
              "       width=\"24px\">\n",
              "    <path d=\"M0 0h24v24H0V0z\" fill=\"none\"/>\n",
              "    <path d=\"M18.56 5.44l.94 2.06.94-2.06 2.06-.94-2.06-.94-.94-2.06-.94 2.06-2.06.94zm-11 1L8.5 8.5l.94-2.06 2.06-.94-2.06-.94L8.5 2.5l-.94 2.06-2.06.94zm10 10l.94 2.06.94-2.06 2.06-.94-2.06-.94-.94-2.06-.94 2.06-2.06.94z\"/><path d=\"M17.41 7.96l-1.37-1.37c-.4-.4-.92-.59-1.43-.59-.52 0-1.04.2-1.43.59L10.3 9.45l-7.72 7.72c-.78.78-.78 2.05 0 2.83L4 21.41c.39.39.9.59 1.41.59.51 0 1.02-.2 1.41-.59l7.78-7.78 2.81-2.81c.8-.78.8-2.07 0-2.86zM5.41 20L4 18.59l7.72-7.72 1.47 1.35L5.41 20z\"/>\n",
              "  </svg>\n",
              "      </button>\n",
              "      \n",
              "  <style>\n",
              "    .colab-df-container {\n",
              "      display:flex;\n",
              "      flex-wrap:wrap;\n",
              "      gap: 12px;\n",
              "    }\n",
              "\n",
              "    .colab-df-convert {\n",
              "      background-color: #E8F0FE;\n",
              "      border: none;\n",
              "      border-radius: 50%;\n",
              "      cursor: pointer;\n",
              "      display: none;\n",
              "      fill: #1967D2;\n",
              "      height: 32px;\n",
              "      padding: 0 0 0 0;\n",
              "      width: 32px;\n",
              "    }\n",
              "\n",
              "    .colab-df-convert:hover {\n",
              "      background-color: #E2EBFA;\n",
              "      box-shadow: 0px 1px 2px rgba(60, 64, 67, 0.3), 0px 1px 3px 1px rgba(60, 64, 67, 0.15);\n",
              "      fill: #174EA6;\n",
              "    }\n",
              "\n",
              "    [theme=dark] .colab-df-convert {\n",
              "      background-color: #3B4455;\n",
              "      fill: #D2E3FC;\n",
              "    }\n",
              "\n",
              "    [theme=dark] .colab-df-convert:hover {\n",
              "      background-color: #434B5C;\n",
              "      box-shadow: 0px 1px 3px 1px rgba(0, 0, 0, 0.15);\n",
              "      filter: drop-shadow(0px 1px 2px rgba(0, 0, 0, 0.3));\n",
              "      fill: #FFFFFF;\n",
              "    }\n",
              "  </style>\n",
              "\n",
              "      <script>\n",
              "        const buttonEl =\n",
              "          document.querySelector('#df-e41d8ff1-d9cb-4e5d-be1a-222bec044860 button.colab-df-convert');\n",
              "        buttonEl.style.display =\n",
              "          google.colab.kernel.accessAllowed ? 'block' : 'none';\n",
              "\n",
              "        async function convertToInteractive(key) {\n",
              "          const element = document.querySelector('#df-e41d8ff1-d9cb-4e5d-be1a-222bec044860');\n",
              "          const dataTable =\n",
              "            await google.colab.kernel.invokeFunction('convertToInteractive',\n",
              "                                                     [key], {});\n",
              "          if (!dataTable) return;\n",
              "\n",
              "          const docLinkHtml = 'Like what you see? Visit the ' +\n",
              "            '<a target=\"_blank\" href=https://colab.research.google.com/notebooks/data_table.ipynb>data table notebook</a>'\n",
              "            + ' to learn more about interactive tables.';\n",
              "          element.innerHTML = '';\n",
              "          dataTable['output_type'] = 'display_data';\n",
              "          await google.colab.output.renderOutput(dataTable, element);\n",
              "          const docLink = document.createElement('div');\n",
              "          docLink.innerHTML = docLinkHtml;\n",
              "          element.appendChild(docLink);\n",
              "        }\n",
              "      </script>\n",
              "    </div>\n",
              "  </div>\n",
              "  "
            ]
          },
          "metadata": {},
          "execution_count": 23
        }
      ]
    },
    {
      "cell_type": "code",
      "source": [
        "df['review'][1]"
      ],
      "metadata": {
        "colab": {
          "base_uri": "https://localhost:8080/",
          "height": 70
        },
        "id": "PlT6lUfkJJUu",
        "outputId": "2cfacbeb-fd0d-4c97-95e2-ce4032db347c"
      },
      "execution_count": null,
      "outputs": [
        {
          "output_type": "execute_result",
          "data": {
            "text/plain": [
              "'http://video.google.com/videoplay?docid=211772166650071408&hl=en Distribution was tried.<br /><br />We opted for mass appeal.<br /><br />We want the best possible viewing range so, we forgo profit and continue our manual labor jobs gladly to entertain you for working yours.<br /><br />View Texas tale, please write about it... If you like it or not, if you like Alex or not, if you like Stuie, Texas or Texas tale... Just write about it.<br /><br />Your opinion rules.'"
            ],
            "application/vnd.google.colaboratory.intrinsic+json": {
              "type": "string"
            }
          },
          "metadata": {},
          "execution_count": 24
        }
      ]
    },
    {
      "cell_type": "code",
      "source": [
        "df['review'][5]"
      ],
      "metadata": {
        "colab": {
          "base_uri": "https://localhost:8080/",
          "height": 140
        },
        "id": "wAPJPPwZZcYn",
        "outputId": "81c8b851-c4ba-4a00-bbde-3d0f80bf6387"
      },
      "execution_count": null,
      "outputs": [
        {
          "output_type": "execute_result",
          "data": {
            "text/plain": [
              "'Steve Carell comes into his own in his first starring role in the 40 Year Old Virgin, having only had supporting roles in such films as Bewitched, Bruce Almighty, Anchorman, and his work on the Daily Show, we had only gotten a small taste of the comedy that Carell truly makes his own. You can tell that Will Ferrell influenced his \"comedic air\" but Carell takes it to another level, everything he does is innocent, lovable, and hilarious. I would not hesitate to say that Steve Carell is one of the next great comedians of our time.<br /><br />The 40 Year Old Virgin is two hours of non-stop laughs (or 4 hours if you see it twice like I did), a perfect supporting cast and great leads charm the audience through the entire movie. The script was perfect with so many great lines that you will want to see the movie again just to try to remember them all. The music fit the tone of the movie great, and you can tell the director knew what he was doing.<br /><br />Filled with sex jokes, some nudity, and a lot of language, this movie isn\\'t for everyone but if you liked the Wedding Crashers, Anchorman, or any movie along those lines, you will absolutely love The 40 Year Old Virgin.'"
            ],
            "application/vnd.google.colaboratory.intrinsic+json": {
              "type": "string"
            }
          },
          "metadata": {},
          "execution_count": 25
        }
      ]
    },
    {
      "cell_type": "markdown",
      "source": [
        "We can observe that this dataset has been scraped from the internet and it includes extra tags like < br >< br >, other links and special characters."
      ],
      "metadata": {
        "id": "ZXv_dGwWaHEC"
      }
    },
    {
      "cell_type": "code",
      "source": [
        "import re\n",
        "from nltk.corpus import stopwords"
      ],
      "metadata": {
        "id": "6Hru4FhLaEhf"
      },
      "execution_count": null,
      "outputs": []
    },
    {
      "cell_type": "code",
      "source": [
        "from nltk.stem import WordNetLemmatizer"
      ],
      "metadata": {
        "id": "0DUsyIhs_fn6"
      },
      "execution_count": null,
      "outputs": []
    },
    {
      "cell_type": "code",
      "source": [
        "import nltk\n",
        "nltk.download('wordnet')\n"
      ],
      "metadata": {
        "colab": {
          "base_uri": "https://localhost:8080/"
        },
        "id": "qY7BoUcNBD0N",
        "outputId": "685ce252-a114-440a-d0e4-10deeef5e0e5"
      },
      "execution_count": null,
      "outputs": [
        {
          "output_type": "stream",
          "name": "stderr",
          "text": [
            "[nltk_data] Downloading package wordnet to /root/nltk_data...\n",
            "[nltk_data]   Package wordnet is already up-to-date!\n"
          ]
        },
        {
          "output_type": "execute_result",
          "data": {
            "text/plain": [
              "True"
            ]
          },
          "metadata": {},
          "execution_count": 28
        }
      ]
    },
    {
      "cell_type": "code",
      "source": [
        "nltk.download('omw-1.4')"
      ],
      "metadata": {
        "colab": {
          "base_uri": "https://localhost:8080/"
        },
        "id": "z3hFml85BJJb",
        "outputId": "385eafb9-992e-4739-b93e-a2e7a88452d1"
      },
      "execution_count": null,
      "outputs": [
        {
          "output_type": "stream",
          "name": "stderr",
          "text": [
            "[nltk_data] Downloading package omw-1.4 to /root/nltk_data...\n",
            "[nltk_data]   Package omw-1.4 is already up-to-date!\n"
          ]
        },
        {
          "output_type": "execute_result",
          "data": {
            "text/plain": [
              "True"
            ]
          },
          "metadata": {},
          "execution_count": 29
        }
      ]
    },
    {
      "cell_type": "code",
      "source": [
        "import nltk\n",
        "nltk.download('stopwords')\n",
        "sw=set(stopwords.words('english'))\n",
        "lemmatizer = WordNetLemmatizer()"
      ],
      "metadata": {
        "colab": {
          "base_uri": "https://localhost:8080/"
        },
        "id": "YVE66unramtz",
        "outputId": "5c46144c-c1f7-495e-bf59-68343905dbe3"
      },
      "execution_count": null,
      "outputs": [
        {
          "output_type": "stream",
          "name": "stderr",
          "text": [
            "[nltk_data] Downloading package stopwords to /root/nltk_data...\n",
            "[nltk_data]   Package stopwords is already up-to-date!\n"
          ]
        }
      ]
    },
    {
      "cell_type": "code",
      "source": [
        "def clean_text(review):\n",
        "\n",
        "  #convert all letters to lowercase\n",
        "  review=review.lower()\n",
        "\n",
        "  #remove <br><br> tags\n",
        "  review=review.replace('<br /><br />','')\n",
        "\n",
        "  #replace all non-alphabetical characters with white space\n",
        "  review=re.sub(\"[^a-zA-Z]+\",' ',review)\n",
        "\n",
        "  #split the text into words \n",
        "  review=review.strip().split(' ')\n",
        "\n",
        "  #remove stopwords and apply lemmatizer \n",
        "  review=[lemmatizer.lemmatize(x) for x in review if x not in sw]\n",
        "\n",
        "  return review"
      ],
      "metadata": {
        "id": "L0H1rgsxat9s"
      },
      "execution_count": null,
      "outputs": []
    },
    {
      "cell_type": "code",
      "source": [
        "df['review'][1]"
      ],
      "metadata": {
        "colab": {
          "base_uri": "https://localhost:8080/",
          "height": 70
        },
        "id": "-qzs65uAetMW",
        "outputId": "895ead3b-e036-427b-a6f5-a894f8b08347"
      },
      "execution_count": null,
      "outputs": [
        {
          "output_type": "execute_result",
          "data": {
            "text/plain": [
              "'http://video.google.com/videoplay?docid=211772166650071408&hl=en Distribution was tried.<br /><br />We opted for mass appeal.<br /><br />We want the best possible viewing range so, we forgo profit and continue our manual labor jobs gladly to entertain you for working yours.<br /><br />View Texas tale, please write about it... If you like it or not, if you like Alex or not, if you like Stuie, Texas or Texas tale... Just write about it.<br /><br />Your opinion rules.'"
            ],
            "application/vnd.google.colaboratory.intrinsic+json": {
              "type": "string"
            }
          },
          "metadata": {},
          "execution_count": 32
        }
      ]
    },
    {
      "cell_type": "code",
      "source": [
        "clean_text(df['review'][1])"
      ],
      "metadata": {
        "colab": {
          "base_uri": "https://localhost:8080/"
        },
        "id": "UT3V9FZbdVS6",
        "outputId": "c9743146-5bee-4065-c0c8-39f55258a750"
      },
      "execution_count": null,
      "outputs": [
        {
          "output_type": "execute_result",
          "data": {
            "text/plain": [
              "['http',\n",
              " 'video',\n",
              " 'google',\n",
              " 'com',\n",
              " 'videoplay',\n",
              " 'docid',\n",
              " 'hl',\n",
              " 'en',\n",
              " 'distribution',\n",
              " 'tried',\n",
              " 'opted',\n",
              " 'mass',\n",
              " 'appeal',\n",
              " 'want',\n",
              " 'best',\n",
              " 'possible',\n",
              " 'viewing',\n",
              " 'range',\n",
              " 'forgo',\n",
              " 'profit',\n",
              " 'continue',\n",
              " 'manual',\n",
              " 'labor',\n",
              " 'job',\n",
              " 'gladly',\n",
              " 'entertain',\n",
              " 'working',\n",
              " 'view',\n",
              " 'texas',\n",
              " 'tale',\n",
              " 'please',\n",
              " 'write',\n",
              " 'like',\n",
              " 'like',\n",
              " 'alex',\n",
              " 'like',\n",
              " 'stuie',\n",
              " 'texas',\n",
              " 'texas',\n",
              " 'tale',\n",
              " 'write',\n",
              " 'opinion',\n",
              " 'rule']"
            ]
          },
          "metadata": {},
          "execution_count": 33
        }
      ]
    },
    {
      "cell_type": "code",
      "source": [
        "df['clean_reviews']=df['review'].apply(clean_text)"
      ],
      "metadata": {
        "id": "uV44oGFudZAU"
      },
      "execution_count": null,
      "outputs": []
    },
    {
      "cell_type": "code",
      "source": [
        "df['clean_reviews'].head()"
      ],
      "metadata": {
        "colab": {
          "base_uri": "https://localhost:8080/"
        },
        "id": "eEumx139BX7S",
        "outputId": "1c4cd3fc-e72a-4249-fa94-917414891541"
      },
      "execution_count": null,
      "outputs": [
        {
          "output_type": "execute_result",
          "data": {
            "text/plain": [
              "0    [mature, intelligent, highly, charged, melodra...\n",
              "1    [http, video, google, com, videoplay, docid, h...\n",
              "2    [title, opera, director, dario, argento, cast,...\n",
              "3    [think, lot, people, wrote, another, one, tom,...\n",
              "4    [story, two, dog, cat, looking, way, back, hom...\n",
              "Name: clean_reviews, dtype: object"
            ]
          },
          "metadata": {},
          "execution_count": 35
        }
      ]
    },
    {
      "cell_type": "markdown",
      "source": [
        "Split dataset into train and test"
      ],
      "metadata": {
        "id": "_jf38rJ0uhfz"
      }
    },
    {
      "cell_type": "code",
      "source": [
        "from sklearn.model_selection import train_test_split\n",
        "X=df['clean_reviews']\n",
        "y=df['label']\n",
        "\n",
        "train_reviews,test_reviews,ytrain,ytest=train_test_split(X,y,stratify=y,test_size=0.25)"
      ],
      "metadata": {
        "id": "0ym5dR81uksk"
      },
      "execution_count": null,
      "outputs": []
    },
    {
      "cell_type": "markdown",
      "source": [
        "word2vec embeddings on train reviews"
      ],
      "metadata": {
        "id": "4MImDYDFBf2F"
      }
    },
    {
      "cell_type": "code",
      "source": [
        "from gensim.models import word2vec\n",
        "\n",
        "num_features=100\n",
        "min_word_count=5\n",
        "num_workers=3\n",
        "\n",
        "model = word2vec.Word2Vec(train_reviews,workers=num_workers,size=num_features,min_count=min_word_count)"
      ],
      "metadata": {
        "id": "7KZd5L-3BfOj"
      },
      "execution_count": null,
      "outputs": []
    },
    {
      "cell_type": "code",
      "source": [
        "model.save(\"w2vmodel\")"
      ],
      "metadata": {
        "id": "grTHbUzr6-cI"
      },
      "execution_count": null,
      "outputs": []
    },
    {
      "cell_type": "code",
      "source": [
        "model.wv.most_similar(\"movie\")"
      ],
      "metadata": {
        "colab": {
          "base_uri": "https://localhost:8080/"
        },
        "id": "fMyV2lYHDW9M",
        "outputId": "79b086aa-c268-436a-c8b3-2221feda3e90"
      },
      "execution_count": null,
      "outputs": [
        {
          "output_type": "execute_result",
          "data": {
            "text/plain": [
              "[('film', 0.7729233503341675),\n",
              " ('flick', 0.6932280659675598),\n",
              " ('sequel', 0.5655446648597717),\n",
              " ('sure', 0.5652586221694946),\n",
              " ('figured', 0.5613445043563843),\n",
              " ('thats', 0.554740846157074),\n",
              " ('suppose', 0.5453314781188965),\n",
              " ('rubbish', 0.5381800532341003),\n",
              " ('anyway', 0.534386157989502),\n",
              " ('anyways', 0.5316417217254639)]"
            ]
          },
          "metadata": {},
          "execution_count": 39
        }
      ]
    },
    {
      "cell_type": "code",
      "source": [
        "model.wv.syn0.shape"
      ],
      "metadata": {
        "colab": {
          "base_uri": "https://localhost:8080/"
        },
        "id": "Bg-XaUgMDeJg",
        "outputId": "8f7d454c-21ac-463e-f6f2-d4397a602174"
      },
      "execution_count": null,
      "outputs": [
        {
          "output_type": "stream",
          "name": "stderr",
          "text": [
            "<ipython-input-40-b77a3a51ff8b>:1: DeprecationWarning: Call to deprecated `syn0` (Attribute will be removed in 4.0.0, use self.wv.vectors instead).\n",
            "  model.wv.syn0.shape\n"
          ]
        },
        {
          "output_type": "execute_result",
          "data": {
            "text/plain": [
              "(27997, 100)"
            ]
          },
          "metadata": {},
          "execution_count": 40
        }
      ]
    },
    {
      "cell_type": "code",
      "source": [
        "def featureVecMethod(words, model, num_features):\n",
        "  \n",
        "    featureVec = np.zeros(num_features,dtype=\"float32\")\n",
        "    nwords = 0\n",
        "  \n",
        "    index2word_set = set(model.wv.index2word)\n",
        "    \n",
        "    for word in  words:\n",
        "        if word in index2word_set:\n",
        "            nwords = nwords + 1\n",
        "            featureVec = np.add(featureVec,model[word])\n",
        "    \n",
        "    # Dividing the result by number of words to get average\n",
        "    featureVec = np.divide(featureVec, nwords)\n",
        "    \n",
        "    return featureVec"
      ],
      "metadata": {
        "id": "0ZHg3ijQFq1g"
      },
      "execution_count": null,
      "outputs": []
    },
    {
      "cell_type": "code",
      "source": [
        "def getAvgFeatureVecs(reviews, model, num_features):\n",
        "    counter = 0\n",
        "    reviewFeatureVecs = np.zeros((len(reviews),num_features),dtype=\"float32\")\n",
        "    for review in reviews:\n",
        "        # Printing a status message every 1000th review\n",
        "        if counter%1000 == 0:\n",
        "            print(\"Review %d of %d\"%(counter,len(reviews)))\n",
        "            \n",
        "        reviewFeatureVecs[counter] = featureVecMethod(review, model, num_features)\n",
        "        counter = counter+1\n",
        "        \n",
        "    return reviewFeatureVecs"
      ],
      "metadata": {
        "id": "GuW9P8ugFjBF"
      },
      "execution_count": null,
      "outputs": []
    },
    {
      "cell_type": "code",
      "source": [
        "trainDataVecs = getAvgFeatureVecs(train_reviews, model, num_features)"
      ],
      "metadata": {
        "colab": {
          "base_uri": "https://localhost:8080/"
        },
        "id": "7YI2GvGuF6AF",
        "outputId": "4130a4bf-a0bb-4414-84ac-f356862a80f4"
      },
      "execution_count": null,
      "outputs": [
        {
          "output_type": "stream",
          "name": "stdout",
          "text": [
            "Review 0 of 30000\n"
          ]
        },
        {
          "output_type": "stream",
          "name": "stderr",
          "text": [
            "<ipython-input-41-f729684ed2ca>:11: DeprecationWarning: Call to deprecated `__getitem__` (Method will be removed in 4.0.0, use self.wv.__getitem__() instead).\n",
            "  featureVec = np.add(featureVec,model[word])\n"
          ]
        },
        {
          "output_type": "stream",
          "name": "stdout",
          "text": [
            "Review 1000 of 30000\n",
            "Review 2000 of 30000\n",
            "Review 3000 of 30000\n",
            "Review 4000 of 30000\n",
            "Review 5000 of 30000\n",
            "Review 6000 of 30000\n",
            "Review 7000 of 30000\n",
            "Review 8000 of 30000\n",
            "Review 9000 of 30000\n",
            "Review 10000 of 30000\n",
            "Review 11000 of 30000\n",
            "Review 12000 of 30000\n",
            "Review 13000 of 30000\n",
            "Review 14000 of 30000\n",
            "Review 15000 of 30000\n",
            "Review 16000 of 30000\n",
            "Review 17000 of 30000\n",
            "Review 18000 of 30000\n",
            "Review 19000 of 30000\n",
            "Review 20000 of 30000\n",
            "Review 21000 of 30000\n",
            "Review 22000 of 30000\n",
            "Review 23000 of 30000\n",
            "Review 24000 of 30000\n",
            "Review 25000 of 30000\n",
            "Review 26000 of 30000\n",
            "Review 27000 of 30000\n",
            "Review 28000 of 30000\n",
            "Review 29000 of 30000\n"
          ]
        }
      ]
    },
    {
      "cell_type": "markdown",
      "source": [
        "Build MLPClassifier and tune hyperparameters"
      ],
      "metadata": {
        "id": "rBNhvpoerg6T"
      }
    },
    {
      "cell_type": "code",
      "source": [
        "from sklearn.neural_network import MLPClassifier\n",
        "\n",
        "mlp_model=MLPClassifier(max_iter=10)\n",
        "\n",
        "parameter_space={\n",
        "    'hidden_layer_sizes':[(10,),(10,15,),(25,25),(20,20,20),(10,12,15,),(10,12,15,20,)],\n",
        "    'activation':['tanh','relu'],\n",
        "    'alpha':[0.0001,0.01],\n",
        "    }"
      ],
      "metadata": {
        "id": "4O2EmN6IzcV_"
      },
      "execution_count": null,
      "outputs": []
    },
    {
      "cell_type": "code",
      "source": [
        "from sklearn.model_selection import GridSearchCV\n",
        "clf=GridSearchCV(mlp_model, parameter_space, n_jobs=-1, cv=5)"
      ],
      "metadata": {
        "id": "ivNhUdHvNjFk"
      },
      "execution_count": null,
      "outputs": []
    },
    {
      "cell_type": "code",
      "source": [
        "clf.fit(trainDataVecs,ytrain)"
      ],
      "metadata": {
        "colab": {
          "base_uri": "https://localhost:8080/"
        },
        "id": "bARMk4AXkull",
        "outputId": "c286e679-aca3-437e-b9ae-78776e8c2d80"
      },
      "execution_count": null,
      "outputs": [
        {
          "output_type": "stream",
          "name": "stderr",
          "text": [
            "/usr/local/lib/python3.8/dist-packages/sklearn/neural_network/_multilayer_perceptron.py:692: ConvergenceWarning: Stochastic Optimizer: Maximum iterations (10) reached and the optimization hasn't converged yet.\n",
            "  warnings.warn(\n"
          ]
        },
        {
          "output_type": "execute_result",
          "data": {
            "text/plain": [
              "GridSearchCV(cv=5, estimator=MLPClassifier(max_iter=10), n_jobs=-1,\n",
              "             param_grid={'activation': ['tanh', 'relu'],\n",
              "                         'alpha': [0.0001, 0.01],\n",
              "                         'hidden_layer_sizes': [(10,), (10, 15), (25, 25),\n",
              "                                                (20, 20, 20), (10, 12, 15),\n",
              "                                                (10, 12, 15, 20)]})"
            ]
          },
          "metadata": {},
          "execution_count": 57
        }
      ]
    },
    {
      "cell_type": "code",
      "source": [
        "df=pd.DataFrame(clf.cv_results_)\n",
        "df"
      ],
      "metadata": {
        "colab": {
          "base_uri": "https://localhost:8080/",
          "height": 1000
        },
        "id": "BRMcJevTkxiN",
        "outputId": "3932b640-b0f8-4940-ddbb-ba317b5d3f3e"
      },
      "execution_count": null,
      "outputs": [
        {
          "output_type": "execute_result",
          "data": {
            "text/plain": [
              "    mean_fit_time  std_fit_time  mean_score_time  std_score_time  \\\n",
              "0        1.136387      0.028116         0.006697        0.000143   \n",
              "1        1.871208      0.388540         0.016276        0.005941   \n",
              "2        2.655318      0.881094         0.022583        0.006570   \n",
              "3        2.270140      0.018002         0.022105        0.000298   \n",
              "4        2.889421      0.554389         0.023506        0.006816   \n",
              "5        2.365622      0.025896         0.020719        0.000543   \n",
              "6        1.087477      0.016512         0.006718        0.000094   \n",
              "7        2.461991      0.351688         0.022292        0.007437   \n",
              "8        1.931102      0.037234         0.019114        0.000266   \n",
              "9        2.558834      0.516655         0.025444        0.006345   \n",
              "10       2.528687      0.696814         0.016583        0.004362   \n",
              "11       2.352372      0.035740         0.020275        0.000460   \n",
              "12       1.368032      0.364521         0.005533        0.002746   \n",
              "13       1.793830      0.491085         0.004421        0.000064   \n",
              "14       1.540825      0.023512         0.008938        0.004687   \n",
              "15       1.788935      0.032879         0.007326        0.000395   \n",
              "16       2.496739      0.548027         0.007049        0.002674   \n",
              "17       1.883070      0.030890         0.006199        0.000490   \n",
              "18       1.117717      0.203090         0.006314        0.003263   \n",
              "19       2.203725      0.209523         0.008050        0.003200   \n",
              "20       1.687610      0.314066         0.008273        0.004102   \n",
              "21       1.741186      0.024557         0.006501        0.000041   \n",
              "22       1.868322      0.417636         0.006878        0.002693   \n",
              "23       2.292002      0.886277         0.005487        0.000836   \n",
              "\n",
              "   param_activation param_alpha param_hidden_layer_sizes  \\\n",
              "0              tanh      0.0001                    (10,)   \n",
              "1              tanh      0.0001                 (10, 15)   \n",
              "2              tanh      0.0001                 (25, 25)   \n",
              "3              tanh      0.0001             (20, 20, 20)   \n",
              "4              tanh      0.0001             (10, 12, 15)   \n",
              "5              tanh      0.0001         (10, 12, 15, 20)   \n",
              "6              tanh        0.01                    (10,)   \n",
              "7              tanh        0.01                 (10, 15)   \n",
              "8              tanh        0.01                 (25, 25)   \n",
              "9              tanh        0.01             (20, 20, 20)   \n",
              "10             tanh        0.01             (10, 12, 15)   \n",
              "11             tanh        0.01         (10, 12, 15, 20)   \n",
              "12             relu      0.0001                    (10,)   \n",
              "13             relu      0.0001                 (10, 15)   \n",
              "14             relu      0.0001                 (25, 25)   \n",
              "15             relu      0.0001             (20, 20, 20)   \n",
              "16             relu      0.0001             (10, 12, 15)   \n",
              "17             relu      0.0001         (10, 12, 15, 20)   \n",
              "18             relu        0.01                    (10,)   \n",
              "19             relu        0.01                 (10, 15)   \n",
              "20             relu        0.01                 (25, 25)   \n",
              "21             relu        0.01             (20, 20, 20)   \n",
              "22             relu        0.01             (10, 12, 15)   \n",
              "23             relu        0.01         (10, 12, 15, 20)   \n",
              "\n",
              "                                               params  split0_test_score  \\\n",
              "0   {'activation': 'tanh', 'alpha': 0.0001, 'hidde...           0.844667   \n",
              "1   {'activation': 'tanh', 'alpha': 0.0001, 'hidde...           0.849167   \n",
              "2   {'activation': 'tanh', 'alpha': 0.0001, 'hidde...           0.851833   \n",
              "3   {'activation': 'tanh', 'alpha': 0.0001, 'hidde...           0.853833   \n",
              "4   {'activation': 'tanh', 'alpha': 0.0001, 'hidde...           0.852000   \n",
              "5   {'activation': 'tanh', 'alpha': 0.0001, 'hidde...           0.848000   \n",
              "6   {'activation': 'tanh', 'alpha': 0.01, 'hidden_...           0.844833   \n",
              "7   {'activation': 'tanh', 'alpha': 0.01, 'hidden_...           0.850500   \n",
              "8   {'activation': 'tanh', 'alpha': 0.01, 'hidden_...           0.853333   \n",
              "9   {'activation': 'tanh', 'alpha': 0.01, 'hidden_...           0.853333   \n",
              "10  {'activation': 'tanh', 'alpha': 0.01, 'hidden_...           0.849167   \n",
              "11  {'activation': 'tanh', 'alpha': 0.01, 'hidden_...           0.847000   \n",
              "12  {'activation': 'relu', 'alpha': 0.0001, 'hidde...           0.846667   \n",
              "13  {'activation': 'relu', 'alpha': 0.0001, 'hidde...           0.848000   \n",
              "14  {'activation': 'relu', 'alpha': 0.0001, 'hidde...           0.851333   \n",
              "15  {'activation': 'relu', 'alpha': 0.0001, 'hidde...           0.849500   \n",
              "16  {'activation': 'relu', 'alpha': 0.0001, 'hidde...           0.851167   \n",
              "17  {'activation': 'relu', 'alpha': 0.0001, 'hidde...           0.851833   \n",
              "18  {'activation': 'relu', 'alpha': 0.01, 'hidden_...           0.846667   \n",
              "19  {'activation': 'relu', 'alpha': 0.01, 'hidden_...           0.851167   \n",
              "20  {'activation': 'relu', 'alpha': 0.01, 'hidden_...           0.852500   \n",
              "21  {'activation': 'relu', 'alpha': 0.01, 'hidden_...           0.853167   \n",
              "22  {'activation': 'relu', 'alpha': 0.01, 'hidden_...           0.850333   \n",
              "23  {'activation': 'relu', 'alpha': 0.01, 'hidden_...           0.848833   \n",
              "\n",
              "    split1_test_score  split2_test_score  split3_test_score  \\\n",
              "0            0.848167           0.849667           0.861167   \n",
              "1            0.853333           0.847500           0.862167   \n",
              "2            0.854167           0.846500           0.859167   \n",
              "3            0.851167           0.855833           0.862000   \n",
              "4            0.852667           0.849667           0.859333   \n",
              "5            0.853833           0.854500           0.856500   \n",
              "6            0.853333           0.850500           0.861167   \n",
              "7            0.854000           0.852667           0.859667   \n",
              "8            0.854000           0.852833           0.861500   \n",
              "9            0.853167           0.842500           0.861833   \n",
              "10           0.851500           0.853000           0.860167   \n",
              "11           0.853333           0.850667           0.860167   \n",
              "12           0.851000           0.848667           0.858500   \n",
              "13           0.854167           0.850167           0.863000   \n",
              "14           0.856000           0.853000           0.863000   \n",
              "15           0.845833           0.854667           0.861667   \n",
              "16           0.854167           0.852000           0.855167   \n",
              "17           0.851500           0.848667           0.862333   \n",
              "18           0.849833           0.850000           0.861000   \n",
              "19           0.854833           0.848500           0.856833   \n",
              "20           0.855000           0.851167           0.861667   \n",
              "21           0.849167           0.851167           0.860333   \n",
              "22           0.853500           0.851333           0.859167   \n",
              "23           0.851833           0.846167           0.861833   \n",
              "\n",
              "    split4_test_score  mean_test_score  std_test_score  rank_test_score  \n",
              "0            0.843833         0.849500        0.006219               23  \n",
              "1            0.848833         0.852200        0.005352                8  \n",
              "2            0.846500         0.851633        0.004815               16  \n",
              "3            0.845500         0.853667        0.005424                2  \n",
              "4            0.845667         0.851867        0.004465               14  \n",
              "5            0.845000         0.851567        0.004334               18  \n",
              "6            0.843333         0.850633        0.006406               21  \n",
              "7            0.845167         0.852400        0.004719                6  \n",
              "8            0.846000         0.853533        0.004919                3  \n",
              "9            0.847333         0.851633        0.006499               16  \n",
              "10           0.849667         0.852700        0.003974                5  \n",
              "11           0.848000         0.851833        0.004714               15  \n",
              "12           0.841833         0.849333        0.005488               24  \n",
              "13           0.844333         0.851933        0.006385               12  \n",
              "14           0.850333         0.854733        0.004558                1  \n",
              "15           0.848667         0.852067        0.005584               11  \n",
              "16           0.848833         0.852267        0.002240                7  \n",
              "17           0.842167         0.851300        0.006518               20  \n",
              "18           0.843667         0.850233        0.005865               22  \n",
              "19           0.849167         0.852100        0.003235                9  \n",
              "20           0.845333         0.853133        0.005318                4  \n",
              "21           0.845833         0.851933        0.004848               13  \n",
              "22           0.846167         0.852100        0.004262                9  \n",
              "23           0.848833         0.851500        0.005469               19  "
            ],
            "text/html": [
              "\n",
              "  <div id=\"df-fe5845b8-92b1-4e82-a3d1-2a379e7b2d75\">\n",
              "    <div class=\"colab-df-container\">\n",
              "      <div>\n",
              "<style scoped>\n",
              "    .dataframe tbody tr th:only-of-type {\n",
              "        vertical-align: middle;\n",
              "    }\n",
              "\n",
              "    .dataframe tbody tr th {\n",
              "        vertical-align: top;\n",
              "    }\n",
              "\n",
              "    .dataframe thead th {\n",
              "        text-align: right;\n",
              "    }\n",
              "</style>\n",
              "<table border=\"1\" class=\"dataframe\">\n",
              "  <thead>\n",
              "    <tr style=\"text-align: right;\">\n",
              "      <th></th>\n",
              "      <th>mean_fit_time</th>\n",
              "      <th>std_fit_time</th>\n",
              "      <th>mean_score_time</th>\n",
              "      <th>std_score_time</th>\n",
              "      <th>param_activation</th>\n",
              "      <th>param_alpha</th>\n",
              "      <th>param_hidden_layer_sizes</th>\n",
              "      <th>params</th>\n",
              "      <th>split0_test_score</th>\n",
              "      <th>split1_test_score</th>\n",
              "      <th>split2_test_score</th>\n",
              "      <th>split3_test_score</th>\n",
              "      <th>split4_test_score</th>\n",
              "      <th>mean_test_score</th>\n",
              "      <th>std_test_score</th>\n",
              "      <th>rank_test_score</th>\n",
              "    </tr>\n",
              "  </thead>\n",
              "  <tbody>\n",
              "    <tr>\n",
              "      <th>0</th>\n",
              "      <td>1.136387</td>\n",
              "      <td>0.028116</td>\n",
              "      <td>0.006697</td>\n",
              "      <td>0.000143</td>\n",
              "      <td>tanh</td>\n",
              "      <td>0.0001</td>\n",
              "      <td>(10,)</td>\n",
              "      <td>{'activation': 'tanh', 'alpha': 0.0001, 'hidde...</td>\n",
              "      <td>0.844667</td>\n",
              "      <td>0.848167</td>\n",
              "      <td>0.849667</td>\n",
              "      <td>0.861167</td>\n",
              "      <td>0.843833</td>\n",
              "      <td>0.849500</td>\n",
              "      <td>0.006219</td>\n",
              "      <td>23</td>\n",
              "    </tr>\n",
              "    <tr>\n",
              "      <th>1</th>\n",
              "      <td>1.871208</td>\n",
              "      <td>0.388540</td>\n",
              "      <td>0.016276</td>\n",
              "      <td>0.005941</td>\n",
              "      <td>tanh</td>\n",
              "      <td>0.0001</td>\n",
              "      <td>(10, 15)</td>\n",
              "      <td>{'activation': 'tanh', 'alpha': 0.0001, 'hidde...</td>\n",
              "      <td>0.849167</td>\n",
              "      <td>0.853333</td>\n",
              "      <td>0.847500</td>\n",
              "      <td>0.862167</td>\n",
              "      <td>0.848833</td>\n",
              "      <td>0.852200</td>\n",
              "      <td>0.005352</td>\n",
              "      <td>8</td>\n",
              "    </tr>\n",
              "    <tr>\n",
              "      <th>2</th>\n",
              "      <td>2.655318</td>\n",
              "      <td>0.881094</td>\n",
              "      <td>0.022583</td>\n",
              "      <td>0.006570</td>\n",
              "      <td>tanh</td>\n",
              "      <td>0.0001</td>\n",
              "      <td>(25, 25)</td>\n",
              "      <td>{'activation': 'tanh', 'alpha': 0.0001, 'hidde...</td>\n",
              "      <td>0.851833</td>\n",
              "      <td>0.854167</td>\n",
              "      <td>0.846500</td>\n",
              "      <td>0.859167</td>\n",
              "      <td>0.846500</td>\n",
              "      <td>0.851633</td>\n",
              "      <td>0.004815</td>\n",
              "      <td>16</td>\n",
              "    </tr>\n",
              "    <tr>\n",
              "      <th>3</th>\n",
              "      <td>2.270140</td>\n",
              "      <td>0.018002</td>\n",
              "      <td>0.022105</td>\n",
              "      <td>0.000298</td>\n",
              "      <td>tanh</td>\n",
              "      <td>0.0001</td>\n",
              "      <td>(20, 20, 20)</td>\n",
              "      <td>{'activation': 'tanh', 'alpha': 0.0001, 'hidde...</td>\n",
              "      <td>0.853833</td>\n",
              "      <td>0.851167</td>\n",
              "      <td>0.855833</td>\n",
              "      <td>0.862000</td>\n",
              "      <td>0.845500</td>\n",
              "      <td>0.853667</td>\n",
              "      <td>0.005424</td>\n",
              "      <td>2</td>\n",
              "    </tr>\n",
              "    <tr>\n",
              "      <th>4</th>\n",
              "      <td>2.889421</td>\n",
              "      <td>0.554389</td>\n",
              "      <td>0.023506</td>\n",
              "      <td>0.006816</td>\n",
              "      <td>tanh</td>\n",
              "      <td>0.0001</td>\n",
              "      <td>(10, 12, 15)</td>\n",
              "      <td>{'activation': 'tanh', 'alpha': 0.0001, 'hidde...</td>\n",
              "      <td>0.852000</td>\n",
              "      <td>0.852667</td>\n",
              "      <td>0.849667</td>\n",
              "      <td>0.859333</td>\n",
              "      <td>0.845667</td>\n",
              "      <td>0.851867</td>\n",
              "      <td>0.004465</td>\n",
              "      <td>14</td>\n",
              "    </tr>\n",
              "    <tr>\n",
              "      <th>5</th>\n",
              "      <td>2.365622</td>\n",
              "      <td>0.025896</td>\n",
              "      <td>0.020719</td>\n",
              "      <td>0.000543</td>\n",
              "      <td>tanh</td>\n",
              "      <td>0.0001</td>\n",
              "      <td>(10, 12, 15, 20)</td>\n",
              "      <td>{'activation': 'tanh', 'alpha': 0.0001, 'hidde...</td>\n",
              "      <td>0.848000</td>\n",
              "      <td>0.853833</td>\n",
              "      <td>0.854500</td>\n",
              "      <td>0.856500</td>\n",
              "      <td>0.845000</td>\n",
              "      <td>0.851567</td>\n",
              "      <td>0.004334</td>\n",
              "      <td>18</td>\n",
              "    </tr>\n",
              "    <tr>\n",
              "      <th>6</th>\n",
              "      <td>1.087477</td>\n",
              "      <td>0.016512</td>\n",
              "      <td>0.006718</td>\n",
              "      <td>0.000094</td>\n",
              "      <td>tanh</td>\n",
              "      <td>0.01</td>\n",
              "      <td>(10,)</td>\n",
              "      <td>{'activation': 'tanh', 'alpha': 0.01, 'hidden_...</td>\n",
              "      <td>0.844833</td>\n",
              "      <td>0.853333</td>\n",
              "      <td>0.850500</td>\n",
              "      <td>0.861167</td>\n",
              "      <td>0.843333</td>\n",
              "      <td>0.850633</td>\n",
              "      <td>0.006406</td>\n",
              "      <td>21</td>\n",
              "    </tr>\n",
              "    <tr>\n",
              "      <th>7</th>\n",
              "      <td>2.461991</td>\n",
              "      <td>0.351688</td>\n",
              "      <td>0.022292</td>\n",
              "      <td>0.007437</td>\n",
              "      <td>tanh</td>\n",
              "      <td>0.01</td>\n",
              "      <td>(10, 15)</td>\n",
              "      <td>{'activation': 'tanh', 'alpha': 0.01, 'hidden_...</td>\n",
              "      <td>0.850500</td>\n",
              "      <td>0.854000</td>\n",
              "      <td>0.852667</td>\n",
              "      <td>0.859667</td>\n",
              "      <td>0.845167</td>\n",
              "      <td>0.852400</td>\n",
              "      <td>0.004719</td>\n",
              "      <td>6</td>\n",
              "    </tr>\n",
              "    <tr>\n",
              "      <th>8</th>\n",
              "      <td>1.931102</td>\n",
              "      <td>0.037234</td>\n",
              "      <td>0.019114</td>\n",
              "      <td>0.000266</td>\n",
              "      <td>tanh</td>\n",
              "      <td>0.01</td>\n",
              "      <td>(25, 25)</td>\n",
              "      <td>{'activation': 'tanh', 'alpha': 0.01, 'hidden_...</td>\n",
              "      <td>0.853333</td>\n",
              "      <td>0.854000</td>\n",
              "      <td>0.852833</td>\n",
              "      <td>0.861500</td>\n",
              "      <td>0.846000</td>\n",
              "      <td>0.853533</td>\n",
              "      <td>0.004919</td>\n",
              "      <td>3</td>\n",
              "    </tr>\n",
              "    <tr>\n",
              "      <th>9</th>\n",
              "      <td>2.558834</td>\n",
              "      <td>0.516655</td>\n",
              "      <td>0.025444</td>\n",
              "      <td>0.006345</td>\n",
              "      <td>tanh</td>\n",
              "      <td>0.01</td>\n",
              "      <td>(20, 20, 20)</td>\n",
              "      <td>{'activation': 'tanh', 'alpha': 0.01, 'hidden_...</td>\n",
              "      <td>0.853333</td>\n",
              "      <td>0.853167</td>\n",
              "      <td>0.842500</td>\n",
              "      <td>0.861833</td>\n",
              "      <td>0.847333</td>\n",
              "      <td>0.851633</td>\n",
              "      <td>0.006499</td>\n",
              "      <td>16</td>\n",
              "    </tr>\n",
              "    <tr>\n",
              "      <th>10</th>\n",
              "      <td>2.528687</td>\n",
              "      <td>0.696814</td>\n",
              "      <td>0.016583</td>\n",
              "      <td>0.004362</td>\n",
              "      <td>tanh</td>\n",
              "      <td>0.01</td>\n",
              "      <td>(10, 12, 15)</td>\n",
              "      <td>{'activation': 'tanh', 'alpha': 0.01, 'hidden_...</td>\n",
              "      <td>0.849167</td>\n",
              "      <td>0.851500</td>\n",
              "      <td>0.853000</td>\n",
              "      <td>0.860167</td>\n",
              "      <td>0.849667</td>\n",
              "      <td>0.852700</td>\n",
              "      <td>0.003974</td>\n",
              "      <td>5</td>\n",
              "    </tr>\n",
              "    <tr>\n",
              "      <th>11</th>\n",
              "      <td>2.352372</td>\n",
              "      <td>0.035740</td>\n",
              "      <td>0.020275</td>\n",
              "      <td>0.000460</td>\n",
              "      <td>tanh</td>\n",
              "      <td>0.01</td>\n",
              "      <td>(10, 12, 15, 20)</td>\n",
              "      <td>{'activation': 'tanh', 'alpha': 0.01, 'hidden_...</td>\n",
              "      <td>0.847000</td>\n",
              "      <td>0.853333</td>\n",
              "      <td>0.850667</td>\n",
              "      <td>0.860167</td>\n",
              "      <td>0.848000</td>\n",
              "      <td>0.851833</td>\n",
              "      <td>0.004714</td>\n",
              "      <td>15</td>\n",
              "    </tr>\n",
              "    <tr>\n",
              "      <th>12</th>\n",
              "      <td>1.368032</td>\n",
              "      <td>0.364521</td>\n",
              "      <td>0.005533</td>\n",
              "      <td>0.002746</td>\n",
              "      <td>relu</td>\n",
              "      <td>0.0001</td>\n",
              "      <td>(10,)</td>\n",
              "      <td>{'activation': 'relu', 'alpha': 0.0001, 'hidde...</td>\n",
              "      <td>0.846667</td>\n",
              "      <td>0.851000</td>\n",
              "      <td>0.848667</td>\n",
              "      <td>0.858500</td>\n",
              "      <td>0.841833</td>\n",
              "      <td>0.849333</td>\n",
              "      <td>0.005488</td>\n",
              "      <td>24</td>\n",
              "    </tr>\n",
              "    <tr>\n",
              "      <th>13</th>\n",
              "      <td>1.793830</td>\n",
              "      <td>0.491085</td>\n",
              "      <td>0.004421</td>\n",
              "      <td>0.000064</td>\n",
              "      <td>relu</td>\n",
              "      <td>0.0001</td>\n",
              "      <td>(10, 15)</td>\n",
              "      <td>{'activation': 'relu', 'alpha': 0.0001, 'hidde...</td>\n",
              "      <td>0.848000</td>\n",
              "      <td>0.854167</td>\n",
              "      <td>0.850167</td>\n",
              "      <td>0.863000</td>\n",
              "      <td>0.844333</td>\n",
              "      <td>0.851933</td>\n",
              "      <td>0.006385</td>\n",
              "      <td>12</td>\n",
              "    </tr>\n",
              "    <tr>\n",
              "      <th>14</th>\n",
              "      <td>1.540825</td>\n",
              "      <td>0.023512</td>\n",
              "      <td>0.008938</td>\n",
              "      <td>0.004687</td>\n",
              "      <td>relu</td>\n",
              "      <td>0.0001</td>\n",
              "      <td>(25, 25)</td>\n",
              "      <td>{'activation': 'relu', 'alpha': 0.0001, 'hidde...</td>\n",
              "      <td>0.851333</td>\n",
              "      <td>0.856000</td>\n",
              "      <td>0.853000</td>\n",
              "      <td>0.863000</td>\n",
              "      <td>0.850333</td>\n",
              "      <td>0.854733</td>\n",
              "      <td>0.004558</td>\n",
              "      <td>1</td>\n",
              "    </tr>\n",
              "    <tr>\n",
              "      <th>15</th>\n",
              "      <td>1.788935</td>\n",
              "      <td>0.032879</td>\n",
              "      <td>0.007326</td>\n",
              "      <td>0.000395</td>\n",
              "      <td>relu</td>\n",
              "      <td>0.0001</td>\n",
              "      <td>(20, 20, 20)</td>\n",
              "      <td>{'activation': 'relu', 'alpha': 0.0001, 'hidde...</td>\n",
              "      <td>0.849500</td>\n",
              "      <td>0.845833</td>\n",
              "      <td>0.854667</td>\n",
              "      <td>0.861667</td>\n",
              "      <td>0.848667</td>\n",
              "      <td>0.852067</td>\n",
              "      <td>0.005584</td>\n",
              "      <td>11</td>\n",
              "    </tr>\n",
              "    <tr>\n",
              "      <th>16</th>\n",
              "      <td>2.496739</td>\n",
              "      <td>0.548027</td>\n",
              "      <td>0.007049</td>\n",
              "      <td>0.002674</td>\n",
              "      <td>relu</td>\n",
              "      <td>0.0001</td>\n",
              "      <td>(10, 12, 15)</td>\n",
              "      <td>{'activation': 'relu', 'alpha': 0.0001, 'hidde...</td>\n",
              "      <td>0.851167</td>\n",
              "      <td>0.854167</td>\n",
              "      <td>0.852000</td>\n",
              "      <td>0.855167</td>\n",
              "      <td>0.848833</td>\n",
              "      <td>0.852267</td>\n",
              "      <td>0.002240</td>\n",
              "      <td>7</td>\n",
              "    </tr>\n",
              "    <tr>\n",
              "      <th>17</th>\n",
              "      <td>1.883070</td>\n",
              "      <td>0.030890</td>\n",
              "      <td>0.006199</td>\n",
              "      <td>0.000490</td>\n",
              "      <td>relu</td>\n",
              "      <td>0.0001</td>\n",
              "      <td>(10, 12, 15, 20)</td>\n",
              "      <td>{'activation': 'relu', 'alpha': 0.0001, 'hidde...</td>\n",
              "      <td>0.851833</td>\n",
              "      <td>0.851500</td>\n",
              "      <td>0.848667</td>\n",
              "      <td>0.862333</td>\n",
              "      <td>0.842167</td>\n",
              "      <td>0.851300</td>\n",
              "      <td>0.006518</td>\n",
              "      <td>20</td>\n",
              "    </tr>\n",
              "    <tr>\n",
              "      <th>18</th>\n",
              "      <td>1.117717</td>\n",
              "      <td>0.203090</td>\n",
              "      <td>0.006314</td>\n",
              "      <td>0.003263</td>\n",
              "      <td>relu</td>\n",
              "      <td>0.01</td>\n",
              "      <td>(10,)</td>\n",
              "      <td>{'activation': 'relu', 'alpha': 0.01, 'hidden_...</td>\n",
              "      <td>0.846667</td>\n",
              "      <td>0.849833</td>\n",
              "      <td>0.850000</td>\n",
              "      <td>0.861000</td>\n",
              "      <td>0.843667</td>\n",
              "      <td>0.850233</td>\n",
              "      <td>0.005865</td>\n",
              "      <td>22</td>\n",
              "    </tr>\n",
              "    <tr>\n",
              "      <th>19</th>\n",
              "      <td>2.203725</td>\n",
              "      <td>0.209523</td>\n",
              "      <td>0.008050</td>\n",
              "      <td>0.003200</td>\n",
              "      <td>relu</td>\n",
              "      <td>0.01</td>\n",
              "      <td>(10, 15)</td>\n",
              "      <td>{'activation': 'relu', 'alpha': 0.01, 'hidden_...</td>\n",
              "      <td>0.851167</td>\n",
              "      <td>0.854833</td>\n",
              "      <td>0.848500</td>\n",
              "      <td>0.856833</td>\n",
              "      <td>0.849167</td>\n",
              "      <td>0.852100</td>\n",
              "      <td>0.003235</td>\n",
              "      <td>9</td>\n",
              "    </tr>\n",
              "    <tr>\n",
              "      <th>20</th>\n",
              "      <td>1.687610</td>\n",
              "      <td>0.314066</td>\n",
              "      <td>0.008273</td>\n",
              "      <td>0.004102</td>\n",
              "      <td>relu</td>\n",
              "      <td>0.01</td>\n",
              "      <td>(25, 25)</td>\n",
              "      <td>{'activation': 'relu', 'alpha': 0.01, 'hidden_...</td>\n",
              "      <td>0.852500</td>\n",
              "      <td>0.855000</td>\n",
              "      <td>0.851167</td>\n",
              "      <td>0.861667</td>\n",
              "      <td>0.845333</td>\n",
              "      <td>0.853133</td>\n",
              "      <td>0.005318</td>\n",
              "      <td>4</td>\n",
              "    </tr>\n",
              "    <tr>\n",
              "      <th>21</th>\n",
              "      <td>1.741186</td>\n",
              "      <td>0.024557</td>\n",
              "      <td>0.006501</td>\n",
              "      <td>0.000041</td>\n",
              "      <td>relu</td>\n",
              "      <td>0.01</td>\n",
              "      <td>(20, 20, 20)</td>\n",
              "      <td>{'activation': 'relu', 'alpha': 0.01, 'hidden_...</td>\n",
              "      <td>0.853167</td>\n",
              "      <td>0.849167</td>\n",
              "      <td>0.851167</td>\n",
              "      <td>0.860333</td>\n",
              "      <td>0.845833</td>\n",
              "      <td>0.851933</td>\n",
              "      <td>0.004848</td>\n",
              "      <td>13</td>\n",
              "    </tr>\n",
              "    <tr>\n",
              "      <th>22</th>\n",
              "      <td>1.868322</td>\n",
              "      <td>0.417636</td>\n",
              "      <td>0.006878</td>\n",
              "      <td>0.002693</td>\n",
              "      <td>relu</td>\n",
              "      <td>0.01</td>\n",
              "      <td>(10, 12, 15)</td>\n",
              "      <td>{'activation': 'relu', 'alpha': 0.01, 'hidden_...</td>\n",
              "      <td>0.850333</td>\n",
              "      <td>0.853500</td>\n",
              "      <td>0.851333</td>\n",
              "      <td>0.859167</td>\n",
              "      <td>0.846167</td>\n",
              "      <td>0.852100</td>\n",
              "      <td>0.004262</td>\n",
              "      <td>9</td>\n",
              "    </tr>\n",
              "    <tr>\n",
              "      <th>23</th>\n",
              "      <td>2.292002</td>\n",
              "      <td>0.886277</td>\n",
              "      <td>0.005487</td>\n",
              "      <td>0.000836</td>\n",
              "      <td>relu</td>\n",
              "      <td>0.01</td>\n",
              "      <td>(10, 12, 15, 20)</td>\n",
              "      <td>{'activation': 'relu', 'alpha': 0.01, 'hidden_...</td>\n",
              "      <td>0.848833</td>\n",
              "      <td>0.851833</td>\n",
              "      <td>0.846167</td>\n",
              "      <td>0.861833</td>\n",
              "      <td>0.848833</td>\n",
              "      <td>0.851500</td>\n",
              "      <td>0.005469</td>\n",
              "      <td>19</td>\n",
              "    </tr>\n",
              "  </tbody>\n",
              "</table>\n",
              "</div>\n",
              "      <button class=\"colab-df-convert\" onclick=\"convertToInteractive('df-fe5845b8-92b1-4e82-a3d1-2a379e7b2d75')\"\n",
              "              title=\"Convert this dataframe to an interactive table.\"\n",
              "              style=\"display:none;\">\n",
              "        \n",
              "  <svg xmlns=\"http://www.w3.org/2000/svg\" height=\"24px\"viewBox=\"0 0 24 24\"\n",
              "       width=\"24px\">\n",
              "    <path d=\"M0 0h24v24H0V0z\" fill=\"none\"/>\n",
              "    <path d=\"M18.56 5.44l.94 2.06.94-2.06 2.06-.94-2.06-.94-.94-2.06-.94 2.06-2.06.94zm-11 1L8.5 8.5l.94-2.06 2.06-.94-2.06-.94L8.5 2.5l-.94 2.06-2.06.94zm10 10l.94 2.06.94-2.06 2.06-.94-2.06-.94-.94-2.06-.94 2.06-2.06.94z\"/><path d=\"M17.41 7.96l-1.37-1.37c-.4-.4-.92-.59-1.43-.59-.52 0-1.04.2-1.43.59L10.3 9.45l-7.72 7.72c-.78.78-.78 2.05 0 2.83L4 21.41c.39.39.9.59 1.41.59.51 0 1.02-.2 1.41-.59l7.78-7.78 2.81-2.81c.8-.78.8-2.07 0-2.86zM5.41 20L4 18.59l7.72-7.72 1.47 1.35L5.41 20z\"/>\n",
              "  </svg>\n",
              "      </button>\n",
              "      \n",
              "  <style>\n",
              "    .colab-df-container {\n",
              "      display:flex;\n",
              "      flex-wrap:wrap;\n",
              "      gap: 12px;\n",
              "    }\n",
              "\n",
              "    .colab-df-convert {\n",
              "      background-color: #E8F0FE;\n",
              "      border: none;\n",
              "      border-radius: 50%;\n",
              "      cursor: pointer;\n",
              "      display: none;\n",
              "      fill: #1967D2;\n",
              "      height: 32px;\n",
              "      padding: 0 0 0 0;\n",
              "      width: 32px;\n",
              "    }\n",
              "\n",
              "    .colab-df-convert:hover {\n",
              "      background-color: #E2EBFA;\n",
              "      box-shadow: 0px 1px 2px rgba(60, 64, 67, 0.3), 0px 1px 3px 1px rgba(60, 64, 67, 0.15);\n",
              "      fill: #174EA6;\n",
              "    }\n",
              "\n",
              "    [theme=dark] .colab-df-convert {\n",
              "      background-color: #3B4455;\n",
              "      fill: #D2E3FC;\n",
              "    }\n",
              "\n",
              "    [theme=dark] .colab-df-convert:hover {\n",
              "      background-color: #434B5C;\n",
              "      box-shadow: 0px 1px 3px 1px rgba(0, 0, 0, 0.15);\n",
              "      filter: drop-shadow(0px 1px 2px rgba(0, 0, 0, 0.3));\n",
              "      fill: #FFFFFF;\n",
              "    }\n",
              "  </style>\n",
              "\n",
              "      <script>\n",
              "        const buttonEl =\n",
              "          document.querySelector('#df-fe5845b8-92b1-4e82-a3d1-2a379e7b2d75 button.colab-df-convert');\n",
              "        buttonEl.style.display =\n",
              "          google.colab.kernel.accessAllowed ? 'block' : 'none';\n",
              "\n",
              "        async function convertToInteractive(key) {\n",
              "          const element = document.querySelector('#df-fe5845b8-92b1-4e82-a3d1-2a379e7b2d75');\n",
              "          const dataTable =\n",
              "            await google.colab.kernel.invokeFunction('convertToInteractive',\n",
              "                                                     [key], {});\n",
              "          if (!dataTable) return;\n",
              "\n",
              "          const docLinkHtml = 'Like what you see? Visit the ' +\n",
              "            '<a target=\"_blank\" href=https://colab.research.google.com/notebooks/data_table.ipynb>data table notebook</a>'\n",
              "            + ' to learn more about interactive tables.';\n",
              "          element.innerHTML = '';\n",
              "          dataTable['output_type'] = 'display_data';\n",
              "          await google.colab.output.renderOutput(dataTable, element);\n",
              "          const docLink = document.createElement('div');\n",
              "          docLink.innerHTML = docLinkHtml;\n",
              "          element.appendChild(docLink);\n",
              "        }\n",
              "      </script>\n",
              "    </div>\n",
              "  </div>\n",
              "  "
            ]
          },
          "metadata": {},
          "execution_count": 58
        }
      ]
    },
    {
      "cell_type": "code",
      "source": [
        "df[['param_hidden_layer_sizes','param_activation','param_alpha','mean_test_score','rank_test_score']]"
      ],
      "metadata": {
        "colab": {
          "base_uri": "https://localhost:8080/",
          "height": 802
        },
        "id": "FukUWgVknx43",
        "outputId": "54680941-0bcf-42ab-eeb2-89a6105a5ff7"
      },
      "execution_count": null,
      "outputs": [
        {
          "output_type": "execute_result",
          "data": {
            "text/plain": [
              "   param_hidden_layer_sizes param_activation param_alpha  mean_test_score  \\\n",
              "0                     (10,)             tanh      0.0001         0.849500   \n",
              "1                  (10, 15)             tanh      0.0001         0.852200   \n",
              "2                  (25, 25)             tanh      0.0001         0.851633   \n",
              "3              (20, 20, 20)             tanh      0.0001         0.853667   \n",
              "4              (10, 12, 15)             tanh      0.0001         0.851867   \n",
              "5          (10, 12, 15, 20)             tanh      0.0001         0.851567   \n",
              "6                     (10,)             tanh        0.01         0.850633   \n",
              "7                  (10, 15)             tanh        0.01         0.852400   \n",
              "8                  (25, 25)             tanh        0.01         0.853533   \n",
              "9              (20, 20, 20)             tanh        0.01         0.851633   \n",
              "10             (10, 12, 15)             tanh        0.01         0.852700   \n",
              "11         (10, 12, 15, 20)             tanh        0.01         0.851833   \n",
              "12                    (10,)             relu      0.0001         0.849333   \n",
              "13                 (10, 15)             relu      0.0001         0.851933   \n",
              "14                 (25, 25)             relu      0.0001         0.854733   \n",
              "15             (20, 20, 20)             relu      0.0001         0.852067   \n",
              "16             (10, 12, 15)             relu      0.0001         0.852267   \n",
              "17         (10, 12, 15, 20)             relu      0.0001         0.851300   \n",
              "18                    (10,)             relu        0.01         0.850233   \n",
              "19                 (10, 15)             relu        0.01         0.852100   \n",
              "20                 (25, 25)             relu        0.01         0.853133   \n",
              "21             (20, 20, 20)             relu        0.01         0.851933   \n",
              "22             (10, 12, 15)             relu        0.01         0.852100   \n",
              "23         (10, 12, 15, 20)             relu        0.01         0.851500   \n",
              "\n",
              "    rank_test_score  \n",
              "0                23  \n",
              "1                 8  \n",
              "2                16  \n",
              "3                 2  \n",
              "4                14  \n",
              "5                18  \n",
              "6                21  \n",
              "7                 6  \n",
              "8                 3  \n",
              "9                16  \n",
              "10                5  \n",
              "11               15  \n",
              "12               24  \n",
              "13               12  \n",
              "14                1  \n",
              "15               11  \n",
              "16                7  \n",
              "17               20  \n",
              "18               22  \n",
              "19                9  \n",
              "20                4  \n",
              "21               13  \n",
              "22                9  \n",
              "23               19  "
            ],
            "text/html": [
              "\n",
              "  <div id=\"df-16e76671-cde9-46d3-8939-d3faa436e657\">\n",
              "    <div class=\"colab-df-container\">\n",
              "      <div>\n",
              "<style scoped>\n",
              "    .dataframe tbody tr th:only-of-type {\n",
              "        vertical-align: middle;\n",
              "    }\n",
              "\n",
              "    .dataframe tbody tr th {\n",
              "        vertical-align: top;\n",
              "    }\n",
              "\n",
              "    .dataframe thead th {\n",
              "        text-align: right;\n",
              "    }\n",
              "</style>\n",
              "<table border=\"1\" class=\"dataframe\">\n",
              "  <thead>\n",
              "    <tr style=\"text-align: right;\">\n",
              "      <th></th>\n",
              "      <th>param_hidden_layer_sizes</th>\n",
              "      <th>param_activation</th>\n",
              "      <th>param_alpha</th>\n",
              "      <th>mean_test_score</th>\n",
              "      <th>rank_test_score</th>\n",
              "    </tr>\n",
              "  </thead>\n",
              "  <tbody>\n",
              "    <tr>\n",
              "      <th>0</th>\n",
              "      <td>(10,)</td>\n",
              "      <td>tanh</td>\n",
              "      <td>0.0001</td>\n",
              "      <td>0.849500</td>\n",
              "      <td>23</td>\n",
              "    </tr>\n",
              "    <tr>\n",
              "      <th>1</th>\n",
              "      <td>(10, 15)</td>\n",
              "      <td>tanh</td>\n",
              "      <td>0.0001</td>\n",
              "      <td>0.852200</td>\n",
              "      <td>8</td>\n",
              "    </tr>\n",
              "    <tr>\n",
              "      <th>2</th>\n",
              "      <td>(25, 25)</td>\n",
              "      <td>tanh</td>\n",
              "      <td>0.0001</td>\n",
              "      <td>0.851633</td>\n",
              "      <td>16</td>\n",
              "    </tr>\n",
              "    <tr>\n",
              "      <th>3</th>\n",
              "      <td>(20, 20, 20)</td>\n",
              "      <td>tanh</td>\n",
              "      <td>0.0001</td>\n",
              "      <td>0.853667</td>\n",
              "      <td>2</td>\n",
              "    </tr>\n",
              "    <tr>\n",
              "      <th>4</th>\n",
              "      <td>(10, 12, 15)</td>\n",
              "      <td>tanh</td>\n",
              "      <td>0.0001</td>\n",
              "      <td>0.851867</td>\n",
              "      <td>14</td>\n",
              "    </tr>\n",
              "    <tr>\n",
              "      <th>5</th>\n",
              "      <td>(10, 12, 15, 20)</td>\n",
              "      <td>tanh</td>\n",
              "      <td>0.0001</td>\n",
              "      <td>0.851567</td>\n",
              "      <td>18</td>\n",
              "    </tr>\n",
              "    <tr>\n",
              "      <th>6</th>\n",
              "      <td>(10,)</td>\n",
              "      <td>tanh</td>\n",
              "      <td>0.01</td>\n",
              "      <td>0.850633</td>\n",
              "      <td>21</td>\n",
              "    </tr>\n",
              "    <tr>\n",
              "      <th>7</th>\n",
              "      <td>(10, 15)</td>\n",
              "      <td>tanh</td>\n",
              "      <td>0.01</td>\n",
              "      <td>0.852400</td>\n",
              "      <td>6</td>\n",
              "    </tr>\n",
              "    <tr>\n",
              "      <th>8</th>\n",
              "      <td>(25, 25)</td>\n",
              "      <td>tanh</td>\n",
              "      <td>0.01</td>\n",
              "      <td>0.853533</td>\n",
              "      <td>3</td>\n",
              "    </tr>\n",
              "    <tr>\n",
              "      <th>9</th>\n",
              "      <td>(20, 20, 20)</td>\n",
              "      <td>tanh</td>\n",
              "      <td>0.01</td>\n",
              "      <td>0.851633</td>\n",
              "      <td>16</td>\n",
              "    </tr>\n",
              "    <tr>\n",
              "      <th>10</th>\n",
              "      <td>(10, 12, 15)</td>\n",
              "      <td>tanh</td>\n",
              "      <td>0.01</td>\n",
              "      <td>0.852700</td>\n",
              "      <td>5</td>\n",
              "    </tr>\n",
              "    <tr>\n",
              "      <th>11</th>\n",
              "      <td>(10, 12, 15, 20)</td>\n",
              "      <td>tanh</td>\n",
              "      <td>0.01</td>\n",
              "      <td>0.851833</td>\n",
              "      <td>15</td>\n",
              "    </tr>\n",
              "    <tr>\n",
              "      <th>12</th>\n",
              "      <td>(10,)</td>\n",
              "      <td>relu</td>\n",
              "      <td>0.0001</td>\n",
              "      <td>0.849333</td>\n",
              "      <td>24</td>\n",
              "    </tr>\n",
              "    <tr>\n",
              "      <th>13</th>\n",
              "      <td>(10, 15)</td>\n",
              "      <td>relu</td>\n",
              "      <td>0.0001</td>\n",
              "      <td>0.851933</td>\n",
              "      <td>12</td>\n",
              "    </tr>\n",
              "    <tr>\n",
              "      <th>14</th>\n",
              "      <td>(25, 25)</td>\n",
              "      <td>relu</td>\n",
              "      <td>0.0001</td>\n",
              "      <td>0.854733</td>\n",
              "      <td>1</td>\n",
              "    </tr>\n",
              "    <tr>\n",
              "      <th>15</th>\n",
              "      <td>(20, 20, 20)</td>\n",
              "      <td>relu</td>\n",
              "      <td>0.0001</td>\n",
              "      <td>0.852067</td>\n",
              "      <td>11</td>\n",
              "    </tr>\n",
              "    <tr>\n",
              "      <th>16</th>\n",
              "      <td>(10, 12, 15)</td>\n",
              "      <td>relu</td>\n",
              "      <td>0.0001</td>\n",
              "      <td>0.852267</td>\n",
              "      <td>7</td>\n",
              "    </tr>\n",
              "    <tr>\n",
              "      <th>17</th>\n",
              "      <td>(10, 12, 15, 20)</td>\n",
              "      <td>relu</td>\n",
              "      <td>0.0001</td>\n",
              "      <td>0.851300</td>\n",
              "      <td>20</td>\n",
              "    </tr>\n",
              "    <tr>\n",
              "      <th>18</th>\n",
              "      <td>(10,)</td>\n",
              "      <td>relu</td>\n",
              "      <td>0.01</td>\n",
              "      <td>0.850233</td>\n",
              "      <td>22</td>\n",
              "    </tr>\n",
              "    <tr>\n",
              "      <th>19</th>\n",
              "      <td>(10, 15)</td>\n",
              "      <td>relu</td>\n",
              "      <td>0.01</td>\n",
              "      <td>0.852100</td>\n",
              "      <td>9</td>\n",
              "    </tr>\n",
              "    <tr>\n",
              "      <th>20</th>\n",
              "      <td>(25, 25)</td>\n",
              "      <td>relu</td>\n",
              "      <td>0.01</td>\n",
              "      <td>0.853133</td>\n",
              "      <td>4</td>\n",
              "    </tr>\n",
              "    <tr>\n",
              "      <th>21</th>\n",
              "      <td>(20, 20, 20)</td>\n",
              "      <td>relu</td>\n",
              "      <td>0.01</td>\n",
              "      <td>0.851933</td>\n",
              "      <td>13</td>\n",
              "    </tr>\n",
              "    <tr>\n",
              "      <th>22</th>\n",
              "      <td>(10, 12, 15)</td>\n",
              "      <td>relu</td>\n",
              "      <td>0.01</td>\n",
              "      <td>0.852100</td>\n",
              "      <td>9</td>\n",
              "    </tr>\n",
              "    <tr>\n",
              "      <th>23</th>\n",
              "      <td>(10, 12, 15, 20)</td>\n",
              "      <td>relu</td>\n",
              "      <td>0.01</td>\n",
              "      <td>0.851500</td>\n",
              "      <td>19</td>\n",
              "    </tr>\n",
              "  </tbody>\n",
              "</table>\n",
              "</div>\n",
              "      <button class=\"colab-df-convert\" onclick=\"convertToInteractive('df-16e76671-cde9-46d3-8939-d3faa436e657')\"\n",
              "              title=\"Convert this dataframe to an interactive table.\"\n",
              "              style=\"display:none;\">\n",
              "        \n",
              "  <svg xmlns=\"http://www.w3.org/2000/svg\" height=\"24px\"viewBox=\"0 0 24 24\"\n",
              "       width=\"24px\">\n",
              "    <path d=\"M0 0h24v24H0V0z\" fill=\"none\"/>\n",
              "    <path d=\"M18.56 5.44l.94 2.06.94-2.06 2.06-.94-2.06-.94-.94-2.06-.94 2.06-2.06.94zm-11 1L8.5 8.5l.94-2.06 2.06-.94-2.06-.94L8.5 2.5l-.94 2.06-2.06.94zm10 10l.94 2.06.94-2.06 2.06-.94-2.06-.94-.94-2.06-.94 2.06-2.06.94z\"/><path d=\"M17.41 7.96l-1.37-1.37c-.4-.4-.92-.59-1.43-.59-.52 0-1.04.2-1.43.59L10.3 9.45l-7.72 7.72c-.78.78-.78 2.05 0 2.83L4 21.41c.39.39.9.59 1.41.59.51 0 1.02-.2 1.41-.59l7.78-7.78 2.81-2.81c.8-.78.8-2.07 0-2.86zM5.41 20L4 18.59l7.72-7.72 1.47 1.35L5.41 20z\"/>\n",
              "  </svg>\n",
              "      </button>\n",
              "      \n",
              "  <style>\n",
              "    .colab-df-container {\n",
              "      display:flex;\n",
              "      flex-wrap:wrap;\n",
              "      gap: 12px;\n",
              "    }\n",
              "\n",
              "    .colab-df-convert {\n",
              "      background-color: #E8F0FE;\n",
              "      border: none;\n",
              "      border-radius: 50%;\n",
              "      cursor: pointer;\n",
              "      display: none;\n",
              "      fill: #1967D2;\n",
              "      height: 32px;\n",
              "      padding: 0 0 0 0;\n",
              "      width: 32px;\n",
              "    }\n",
              "\n",
              "    .colab-df-convert:hover {\n",
              "      background-color: #E2EBFA;\n",
              "      box-shadow: 0px 1px 2px rgba(60, 64, 67, 0.3), 0px 1px 3px 1px rgba(60, 64, 67, 0.15);\n",
              "      fill: #174EA6;\n",
              "    }\n",
              "\n",
              "    [theme=dark] .colab-df-convert {\n",
              "      background-color: #3B4455;\n",
              "      fill: #D2E3FC;\n",
              "    }\n",
              "\n",
              "    [theme=dark] .colab-df-convert:hover {\n",
              "      background-color: #434B5C;\n",
              "      box-shadow: 0px 1px 3px 1px rgba(0, 0, 0, 0.15);\n",
              "      filter: drop-shadow(0px 1px 2px rgba(0, 0, 0, 0.3));\n",
              "      fill: #FFFFFF;\n",
              "    }\n",
              "  </style>\n",
              "\n",
              "      <script>\n",
              "        const buttonEl =\n",
              "          document.querySelector('#df-16e76671-cde9-46d3-8939-d3faa436e657 button.colab-df-convert');\n",
              "        buttonEl.style.display =\n",
              "          google.colab.kernel.accessAllowed ? 'block' : 'none';\n",
              "\n",
              "        async function convertToInteractive(key) {\n",
              "          const element = document.querySelector('#df-16e76671-cde9-46d3-8939-d3faa436e657');\n",
              "          const dataTable =\n",
              "            await google.colab.kernel.invokeFunction('convertToInteractive',\n",
              "                                                     [key], {});\n",
              "          if (!dataTable) return;\n",
              "\n",
              "          const docLinkHtml = 'Like what you see? Visit the ' +\n",
              "            '<a target=\"_blank\" href=https://colab.research.google.com/notebooks/data_table.ipynb>data table notebook</a>'\n",
              "            + ' to learn more about interactive tables.';\n",
              "          element.innerHTML = '';\n",
              "          dataTable['output_type'] = 'display_data';\n",
              "          await google.colab.output.renderOutput(dataTable, element);\n",
              "          const docLink = document.createElement('div');\n",
              "          docLink.innerHTML = docLinkHtml;\n",
              "          element.appendChild(docLink);\n",
              "        }\n",
              "      </script>\n",
              "    </div>\n",
              "  </div>\n",
              "  "
            ]
          },
          "metadata": {},
          "execution_count": 59
        }
      ]
    },
    {
      "cell_type": "code",
      "source": [
        "clf.best_estimator_"
      ],
      "metadata": {
        "colab": {
          "base_uri": "https://localhost:8080/"
        },
        "id": "ane6CyWgo9T5",
        "outputId": "db66a409-a657-4dc9-f506-7d81ce338e20"
      },
      "execution_count": null,
      "outputs": [
        {
          "output_type": "execute_result",
          "data": {
            "text/plain": [
              "MLPClassifier(hidden_layer_sizes=(25, 25), max_iter=10)"
            ]
          },
          "metadata": {},
          "execution_count": 60
        }
      ]
    },
    {
      "cell_type": "code",
      "source": [
        "testDataVecs=getAvgFeatureVecs(test_reviews, model, num_features)"
      ],
      "metadata": {
        "colab": {
          "base_uri": "https://localhost:8080/"
        },
        "id": "lPXBj4Udqraz",
        "outputId": "e6491461-2882-43a8-962d-35a575aa4803"
      },
      "execution_count": null,
      "outputs": [
        {
          "output_type": "stream",
          "name": "stdout",
          "text": [
            "Review 0 of 10000\n"
          ]
        },
        {
          "output_type": "stream",
          "name": "stderr",
          "text": [
            "<ipython-input-41-f729684ed2ca>:11: DeprecationWarning: Call to deprecated `__getitem__` (Method will be removed in 4.0.0, use self.wv.__getitem__() instead).\n",
            "  featureVec = np.add(featureVec,model[word])\n"
          ]
        },
        {
          "output_type": "stream",
          "name": "stdout",
          "text": [
            "Review 1000 of 10000\n",
            "Review 2000 of 10000\n",
            "Review 3000 of 10000\n",
            "Review 4000 of 10000\n",
            "Review 5000 of 10000\n",
            "Review 6000 of 10000\n",
            "Review 7000 of 10000\n",
            "Review 8000 of 10000\n",
            "Review 9000 of 10000\n"
          ]
        }
      ]
    },
    {
      "cell_type": "code",
      "source": [
        "ypred=clf.predict(testDataVecs)"
      ],
      "metadata": {
        "id": "MGsXyZA9w1J_"
      },
      "execution_count": null,
      "outputs": []
    },
    {
      "cell_type": "code",
      "source": [
        "from sklearn.metrics import accuracy_score,confusion_matrix,precision_score,recall_score,f1_score\n",
        "\n",
        "print(\"Accuracy : %.2f\"%accuracy_score(ytest,ypred))\n",
        "print(\"Precision: %.2f\"%precision_score(ytest,ypred))\n",
        "print(\"Recall   : %.2f\"%recall_score(ytest,ypred))\n",
        "print(\"f1_score : %.2f\"%f1_score(ytest,ypred))\n",
        "\n",
        "cf=confusion_matrix(ytest,ypred)\n",
        "sns.heatmap(cf,annot=True,fmt='d',cmap='coolwarm')"
      ],
      "metadata": {
        "colab": {
          "base_uri": "https://localhost:8080/",
          "height": 356
        },
        "id": "0nj58uyVw_La",
        "outputId": "8610f1f3-7c81-4877-d062-129eff5ae6ce"
      },
      "execution_count": null,
      "outputs": [
        {
          "output_type": "stream",
          "name": "stdout",
          "text": [
            "Accuracy : 0.85\n",
            "Precision: 0.82\n",
            "Recall   : 0.90\n",
            "f1_score : 0.86\n"
          ]
        },
        {
          "output_type": "execute_result",
          "data": {
            "text/plain": [
              "<matplotlib.axes._subplots.AxesSubplot at 0x7fa24e83bb20>"
            ]
          },
          "metadata": {},
          "execution_count": 63
        },
        {
          "output_type": "display_data",
          "data": {
            "text/plain": [
              "<Figure size 432x288 with 2 Axes>"
            ],
            "image/png": "[encoded data removed]"
          },
          "metadata": {
            "needs_background": "light"
          }
        }
      ]
    }
  ]
}